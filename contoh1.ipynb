{
  "nbformat": 4,
  "nbformat_minor": 0,
  "metadata": {
    "colab": {
      "name": "contoh1.ipynb",
      "provenance": [],
      "authorship_tag": "ABX9TyONXEy6Vp7AVFdVDtxsH8/g",
      "include_colab_link": true
    },
    "kernelspec": {
      "name": "python3",
      "display_name": "Python 3"
    },
    "language_info": {
      "name": "python"
    }
  },
  "cells": [
    {
      "cell_type": "markdown",
      "metadata": {
        "id": "view-in-github",
        "colab_type": "text"
      },
      "source": [
        "<a href=\"https://colab.research.google.com/github/kirito040401/symmetrical-couscous/blob/main/contoh1.ipynb\" target=\"_parent\"><img src=\"https://colab.research.google.com/assets/colab-badge.svg\" alt=\"Open In Colab\"/></a>"
      ]
    },
    {
      "cell_type": "code",
      "source": [
        "weights =[0.2, 0.4]\n",
        "weights_bias =[0.2]\n",
        "learning_rate = 0.2\n",
        "treshold = 27\n",
        "inputs = [35, 28]\n",
        "target = [1]\n",
        "def sum(inputs, weights):\n",
        "  s = 0\n",
        "  for i in range(2):\n",
        "    s+=1*weights_bias[0]+(inputs[i]*weights[i])\n",
        "  return s\n",
        "\n",
        "s = sum(inputs, weights)\n",
        "print(s)\n",
        "def aktiviasi (s):\n",
        "  if(s >=treshold):\n",
        "    output = 1\n",
        "  else:\n",
        "    output = 0\n",
        "  return output\n",
        "output = aktiviasi(s)\n",
        "print(output)"
      ],
      "metadata": {
        "colab": {
          "base_uri": "https://localhost:8080/"
        },
        "id": "fGdFvGY9GJ9b",
        "outputId": "9fc2dc88-92f2-4b13-a041-b63eacec1487"
      },
      "execution_count": 14,
      "outputs": [
        {
          "output_type": "stream",
          "name": "stdout",
          "text": [
            "18.6\n",
            "0\n"
          ]
        }
      ]
    }
  ]
}